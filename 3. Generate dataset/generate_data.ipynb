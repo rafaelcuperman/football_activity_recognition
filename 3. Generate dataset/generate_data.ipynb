{
 "cells": [
  {
   "cell_type": "code",
   "execution_count": null,
   "metadata": {},
   "outputs": [],
   "source": [
    "# Code to generate windows for X_train, X_test, y_train and y_test for the training. Uses the code generate_dataset.py"
   ]
  },
  {
   "cell_type": "code",
   "execution_count": 1,
   "metadata": {},
   "outputs": [],
   "source": [
    "import os\n",
    "current_pwd = os.getcwd()\n",
    "\n",
    "path_generate_dataset = r\"C:\\Users\\Rafael\\OneDrive - Delft University of Technology\\Final code\\3. Generate dataset\" \n",
    "os.chdir(path_generate_dataset)\n",
    "from generate_dataset import generate_dataset\n",
    "os.chdir(current_pwd)\n",
    "\n",
    "import numpy as np\n",
    "import json"
   ]
  },
  {
   "cell_type": "code",
   "execution_count": 5,
   "metadata": {},
   "outputs": [
    {
     "name": "stdout",
     "output_type": "stream",
     "text": [
      "Labels: {'shot': 0, 'sprint': 1, 'jump': 2, 'jog': 3, 'pass': 4, 'turn90': 5, 'turn180': 6}\n",
      "\n",
      "0/1701 windows processed\n",
      "100/1701 windows processed\n",
      "200/1701 windows processed\n",
      "300/1701 windows processed\n",
      "400/1701 windows processed\n",
      "500/1701 windows processed\n",
      "600/1701 windows processed\n",
      "700/1701 windows processed\n",
      "800/1701 windows processed\n",
      "900/1701 windows processed\n",
      "1000/1701 windows processed\n",
      "1100/1701 windows processed\n",
      "1200/1701 windows processed\n",
      "1300/1701 windows processed\n",
      "1400/1701 windows processed\n",
      "1500/1701 windows processed\n",
      "1600/1701 windows processed\n",
      "1700/1701 windows processed\n",
      "Dataset generated\n",
      "\n",
      "(1701, 30, 500)\n",
      "Order of sensors: ['leftShankAccX', 'leftShankAccY', 'leftShankAccZ', 'leftShankGyroX', 'leftShankGyroY', 'leftShankGyroZ', 'rightShankAccX', 'rightShankAccY', 'rightShankAccZ', 'rightShankGyroX', 'rightShankGyroY', 'rightShankGyroZ', 'leftThighAccX', 'leftThighAccY', 'leftThighAccZ', 'leftThighGyroX', 'leftThighGyroY', 'leftThighGyroZ', 'rightThighAccX', 'rightThighAccY', 'rightThighAccZ', 'rightThighGyroX', 'rightThighGyroY', 'rightThighGyroZ', 'pelvisAccX', 'pelvisAccY', 'pelvisAccZ', 'pelvisGyroX', 'pelvisGyroY', 'pelvisGyroZ']\n",
      "\n",
      "Size of train dataset: (1190, 30, 500)\n",
      "Size of test dataset: (511, 30, 500)\n"
     ]
    },
    {
     "data": {
      "image/png": "[encoded data removed]",
      "text/plain": [
       "<Figure size 432x288 with 1 Axes>"
      ]
     },
     "metadata": {
      "needs_background": "light"
     },
     "output_type": "display_data"
    },
    {
     "data": {
      "image/png": "[encoded data removed]",
      "text/plain": [
       "<Figure size 432x288 with 1 Axes>"
      ]
     },
     "metadata": {
      "needs_background": "light"
     },
     "output_type": "display_data"
    }
   ],
   "source": [
    "### Parameters ###\n",
    "\n",
    "# Possible categories from the training/validation windows\n",
    "categories = {\n",
    "    0: 'Jog (10m)',\n",
    "    1: 'Sub maximal run (10m)',\n",
    "    2: 'Maximal run (10m)',\n",
    "    3: 'Jog with rapid stop (10m)',\n",
    "    4: 'Sub maximal run with rapid stop (10m)',\n",
    "    5: 'Maximal run with rapid stop (10m)',\n",
    "    6: 'Jog with 180 deg turn (10m)',\n",
    "    7: 'Sub maximal run with 180 deg turn (10m)',\n",
    "    8: 'Maximal run with 180 deg turn (10m)',\n",
    "    9: 'Jog followed by 90 deg cut (5m)',\n",
    "    10: 'Sub maximal run followed by 90 deg cut (5m)',\n",
    "    11: 'Maximal run followed by 90 deg cut (5m)',\n",
    "    12: 'Standing jump',\n",
    "    13: 'Jump with a small run-up',\n",
    "    14: 'Jump with a small run-up',\n",
    "    15: 'Short pass',\n",
    "    16: 'Long pass',\n",
    "    17: 'Shot',\n",
    "    18: 'Maximal sprint (30m)',\n",
    "    -1: 'Low activity'\n",
    "}\n",
    "\n",
    "# Define categories to use. Choose numbers to group from dictionary of above\n",
    "categories_dict = {'shot': [17],\n",
    "                  'sprint': [18],\n",
    "                  'jump': [12],\n",
    "                  'jog': [0],\n",
    "                  'pass': [15],\n",
    "                  'turn90': [9],\n",
    "                  'turn180': [6]}\n",
    "\n",
    "# Define parameters to use in function generate_dataset.py\n",
    "file_windows_activities = r'C:/Users/Rafael/OneDrive - Delft University of Technology/Data/windows/times_windows_all_1_0.75.csv'\n",
    "\n",
    "sensors_bodypart = 'all'\n",
    "sensors_type = ['Acc','Gyro']\n",
    "sensors_axis = 'all'\n",
    "standardize = False\n",
    "type_resample = 'under'\n",
    "test_size = 0.3\n",
    "random_state = 0\n",
    "\n",
    "\n",
    "# Define folder name where the dataset will be saved\n",
    "info_dataset = '1s_ssjjp' #1s_ssjjp means windows of 1 second, with classes shots, sprints, jumps, jogs and passes\n",
    "\n",
    "# Folder where the dataset will be saved\n",
    "savedir = r'C:\\Users\\Rafael\\OneDrive - Delft University of Technology\\Modeling\\Datasets\\{}\\{}_{}_{}_{}/'.format(info_dataset,\n",
    "                                                                                                           sensors_bodypart,\n",
    "                                                                                                          sensors_type,\n",
    "                                                                                                          sensors_axis,\n",
    "                                                                                                          standardize)"
   ]
  },
  {
   "cell_type": "code",
   "execution_count": null,
   "metadata": {},
   "outputs": [],
   "source": [
    "## Main \n",
    "\n",
    "# Build dataset\n",
    "X_train, X_test, y_train, y_test, sensors, labels_dict = generate_dataset(categories_dict = categories_dict,\n",
    "                                                            file_windows_activities = file_windows_activities,\n",
    "                                                            sensors_bodypart = sensors_bodypart, \n",
    "                                                            sensors_type = sensors_type,\n",
    "                                                            sensors_axis = sensors_axis,\n",
    "                                                            standardize = standardize,\n",
    "                                                            type_resample = type_resample,\n",
    "                                                            test_size = test_size,\n",
    "                                                            random_state = random_state)"
   ]
  },
  {
   "cell_type": "code",
   "execution_count": 6,
   "metadata": {},
   "outputs": [],
   "source": [
    "## Save dataset\n",
    "\n",
    "# Helper lines to name the folders where the dataset is saved\n",
    "sensors_bodypart = '-'.join(sensors_bodypart) if isinstance(sensors_bodypart, list) else sensors_bodypart\n",
    "sensors_type = '-'.join(sensors_type) if isinstance(sensors_type, list) else sensors_type\n",
    "sensors_axis = '-'.join(sensors_axis) if isinstance(sensors_axis, list) else sensors_axis\n",
    "standardize = 'standardized' if standardize else 'unstandardized'\n",
    "\n",
    "\n",
    "# Create folder if does not exist\n",
    "if not os.path.exists(savedir):\n",
    "    os.makedirs(savedir)\n",
    "\n",
    "    \n",
    "# Save datasets\n",
    "np.save(savedir + 'X_train.npy' , X_train)\n",
    "np.save(savedir + 'X_test.npy' , X_test)\n",
    "np.save(savedir + 'y_train.npy' , y_train)\n",
    "np.save(savedir + 'y_test.npy' , y_test)\n",
    "np.save(savedir + 'sensors.npy' , sensors)\n",
    "\n",
    "dict_file = open(savedir + 'labels_dict.json', \"w\")\n",
    "json.dump(labels_dict, dict_file)\n",
    "dict_file.close()"
   ]
  }
 ],
 "metadata": {
  "kernelspec": {
   "display_name": "Python 3",
   "language": "python",
   "name": "python3"
  },
  "language_info": {
   "codemirror_mode": {
    "name": "ipython",
    "version": 3
   },
   "file_extension": ".py",
   "mimetype": "text/x-python",
   "name": "python",
   "nbconvert_exporter": "python",
   "pygments_lexer": "ipython3",
   "version": "3.7.9"
  }
 },
 "nbformat": 4,
 "nbformat_minor": 4
}
